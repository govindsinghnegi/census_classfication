{
 "cells": [
  {
   "cell_type": "code",
   "execution_count": 1,
   "id": "3c7d4f94",
   "metadata": {},
   "outputs": [],
   "source": [
    "import pandas as pd\n",
    "from sklearn.model_selection import train_test_split, KFold, cross_validate\n",
    "import numpy as np\n",
    "from sklearn.preprocessing import LabelBinarizer, OneHotEncoder\n",
    "from sklearn.metrics import fbeta_score, precision_score, recall_score, f1_score, make_scorer\n",
    "from sklearn.ensemble import RandomForestClassifier"
   ]
  },
  {
   "cell_type": "code",
   "execution_count": 2,
   "id": "ed758c1a",
   "metadata": {},
   "outputs": [
    {
     "name": "stdout",
     "output_type": "stream",
     "text": [
      "   age         workclass   fnlgt  education  education-num  \\\n",
      "0   39         State-gov   77516  Bachelors             13   \n",
      "1   50  Self-emp-not-inc   83311  Bachelors             13   \n",
      "2   38           Private  215646    HS-grad              9   \n",
      "3   53           Private  234721       11th              7   \n",
      "4   28           Private  338409  Bachelors             13   \n",
      "\n",
      "       marital-status         occupation   relationship   race     sex  \\\n",
      "0       Never-married       Adm-clerical  Not-in-family  White    Male   \n",
      "1  Married-civ-spouse    Exec-managerial        Husband  White    Male   \n",
      "2            Divorced  Handlers-cleaners  Not-in-family  White    Male   \n",
      "3  Married-civ-spouse  Handlers-cleaners        Husband  Black    Male   \n",
      "4  Married-civ-spouse     Prof-specialty           Wife  Black  Female   \n",
      "\n",
      "   capital-gain  capital-loss  hours-per-week native-country salary  \n",
      "0          2174             0              40  United-States  <=50K  \n",
      "1             0             0              13  United-States  <=50K  \n",
      "2             0             0              40  United-States  <=50K  \n",
      "3             0             0              40  United-States  <=50K  \n",
      "4             0             0              40           Cuba  <=50K  \n"
     ]
    }
   ],
   "source": [
    "data = pd.read_csv('data/census.csv')\n",
    "print(data.head(5))"
   ]
  },
  {
   "cell_type": "code",
   "execution_count": 3,
   "id": "51ce326f",
   "metadata": {},
   "outputs": [
    {
     "name": "stdout",
     "output_type": "stream",
     "text": [
      "<class 'pandas.core.frame.DataFrame'>\n",
      "RangeIndex: 32561 entries, 0 to 32560\n",
      "Data columns (total 15 columns):\n",
      " #   Column          Non-Null Count  Dtype \n",
      "---  ------          --------------  ----- \n",
      " 0   age             32561 non-null  int64 \n",
      " 1   workclass       32561 non-null  object\n",
      " 2   fnlgt           32561 non-null  int64 \n",
      " 3   education       32561 non-null  object\n",
      " 4   education-num   32561 non-null  int64 \n",
      " 5   marital-status  32561 non-null  object\n",
      " 6   occupation      32561 non-null  object\n",
      " 7   relationship    32561 non-null  object\n",
      " 8   race            32561 non-null  object\n",
      " 9   sex             32561 non-null  object\n",
      " 10  capital-gain    32561 non-null  int64 \n",
      " 11  capital-loss    32561 non-null  int64 \n",
      " 12  hours-per-week  32561 non-null  int64 \n",
      " 13  native-country  32561 non-null  object\n",
      " 14  salary          32561 non-null  object\n",
      "dtypes: int64(6), object(9)\n",
      "memory usage: 3.7+ MB\n"
     ]
    }
   ],
   "source": [
    "data.info()"
   ]
  },
  {
   "cell_type": "code",
   "execution_count": 4,
   "id": "cdb34b8a",
   "metadata": {},
   "outputs": [
    {
     "data": {
      "text/plain": [
       "(32561, 15)"
      ]
     },
     "execution_count": 4,
     "metadata": {},
     "output_type": "execute_result"
    }
   ],
   "source": [
    "data.shape"
   ]
  },
  {
   "cell_type": "code",
   "execution_count": 5,
   "id": "ad983d14",
   "metadata": {},
   "outputs": [],
   "source": [
    "train, test = train_test_split(data, test_size=0.20)"
   ]
  },
  {
   "cell_type": "code",
   "execution_count": 6,
   "id": "b5a0f04b",
   "metadata": {},
   "outputs": [
    {
     "name": "stdout",
     "output_type": "stream",
     "text": [
      "(26048, 15)\n",
      "(6513, 15)\n"
     ]
    }
   ],
   "source": [
    "print(train.shape)\n",
    "print(test.shape)"
   ]
  },
  {
   "cell_type": "code",
   "execution_count": 7,
   "id": "d4b0438f",
   "metadata": {},
   "outputs": [],
   "source": [
    "cat_features = [\n",
    "    \"workclass\",\n",
    "    \"education\",\n",
    "    \"marital-status\",\n",
    "    \"occupation\",\n",
    "    \"relationship\",\n",
    "    \"race\",\n",
    "    \"sex\",\n",
    "    \"native-country\",\n",
    "]"
   ]
  },
  {
   "cell_type": "code",
   "execution_count": 8,
   "id": "f3866b6e",
   "metadata": {},
   "outputs": [],
   "source": [
    "def process_data(X, categorical_features=[], label=None, training=True, encoder=None, lb=None):\n",
    "    if label is not None:\n",
    "        y = X[label]\n",
    "        X = X.drop([label], axis=1)\n",
    "    else:\n",
    "        y = np.array([])\n",
    "\n",
    "    X_categorical = X[categorical_features].values\n",
    "    X_continuous = X.drop(*[categorical_features], axis=1)\n",
    "\n",
    "    if training is True:\n",
    "        encoder = OneHotEncoder(sparse=False, handle_unknown=\"ignore\")\n",
    "        lb = LabelBinarizer()\n",
    "        X_categorical = encoder.fit_transform(X_categorical)\n",
    "        y = lb.fit_transform(y.values).ravel()\n",
    "    else:\n",
    "        X_categorical = encoder.transform(X_categorical)\n",
    "        try:\n",
    "            y = lb.transform(y.values).ravel()\n",
    "        # Catch the case where y is None because we're doing inference.\n",
    "        except AttributeError:\n",
    "            pass\n",
    "\n",
    "    X = np.concatenate([X_continuous, X_categorical], axis=1)\n",
    "    return X, y, encoder, lb"
   ]
  },
  {
   "cell_type": "code",
   "execution_count": 9,
   "id": "bf8aa111",
   "metadata": {},
   "outputs": [],
   "source": [
    "X_train, y_train, encoder, lb = process_data(train, categorical_features=cat_features, label=\"salary\")"
   ]
  },
  {
   "cell_type": "code",
   "execution_count": 10,
   "id": "6bb0ee43",
   "metadata": {},
   "outputs": [
    {
     "name": "stdout",
     "output_type": "stream",
     "text": [
      "(26048, 108)\n",
      "(26048,)\n"
     ]
    }
   ],
   "source": [
    "print(X_train.shape)\n",
    "print(y_train.shape)"
   ]
  },
  {
   "cell_type": "code",
   "execution_count": 11,
   "id": "fa5ea55d",
   "metadata": {},
   "outputs": [],
   "source": [
    "X_test, y_test, _, _ = process_data(test, categorical_features=cat_features, label=\"salary\", \n",
    "                                             training=False, encoder=encoder, lb=lb)"
   ]
  },
  {
   "cell_type": "code",
   "execution_count": 12,
   "id": "dceabe5d",
   "metadata": {},
   "outputs": [
    {
     "name": "stdout",
     "output_type": "stream",
     "text": [
      "(6513, 108)\n",
      "(6513,)\n"
     ]
    }
   ],
   "source": [
    "print(X_test.shape)\n",
    "print(y_test.shape)"
   ]
  },
  {
   "cell_type": "code",
   "execution_count": 38,
   "id": "3538dd11",
   "metadata": {},
   "outputs": [],
   "source": [
    "def train_model(X_train, y_train):\n",
    "    \n",
    "    cv = KFold(n_splits=10)\n",
    "    \n",
    "    scoring = {\n",
    "        'precision': make_scorer(precision_score),\n",
    "        'recall': make_scorer(recall_score), \n",
    "        'f1_score': make_scorer(f1_score)\n",
    "    }\n",
    "    \n",
    "    model = RandomForestClassifier(n_estimators=300)\n",
    "    model.fit(X_train, y_train)\n",
    "    \n",
    "    scores = cross_validate(model, X_train, y_train, scoring=scoring, cv=cv)\n",
    "    \n",
    "    print(f\"precision Score: {np.mean(scores['test_precision']):.3f}\")\n",
    "    print(f\"recall Score: {np.mean(scores['test_recall']):.3f}\")\n",
    "    print(f\"f1 Score: {np.mean(scores['test_f1_score']):.3f}\")\n",
    "    \n",
    "    return model"
   ]
  },
  {
   "cell_type": "code",
   "execution_count": 39,
   "id": "dfbcb743",
   "metadata": {},
   "outputs": [],
   "source": [
    "def inference(model, X):\n",
    "    preds = model.predict(X)\n",
    "    return preds"
   ]
  },
  {
   "cell_type": "code",
   "execution_count": 40,
   "id": "fa34084c",
   "metadata": {},
   "outputs": [],
   "source": [
    "def compute_model_metrics(y, preds):\n",
    "    fbeta = fbeta_score(y, preds, beta=1, zero_division=1)\n",
    "    precision = precision_score(y, preds, zero_division=1)\n",
    "    recall = recall_score(y, preds, zero_division=1)\n",
    "    return precision, recall, fbeta"
   ]
  },
  {
   "cell_type": "code",
   "execution_count": 41,
   "id": "6fc5cf9c",
   "metadata": {},
   "outputs": [
    {
     "name": "stdout",
     "output_type": "stream",
     "text": [
      "precision Score: 0.735\n",
      "recall Score: 0.629\n",
      "f1 Score: 0.678\n"
     ]
    }
   ],
   "source": [
    "model = train_model(X_train, y_train)"
   ]
  },
  {
   "cell_type": "code",
   "execution_count": 42,
   "id": "f7cdd6d4",
   "metadata": {},
   "outputs": [],
   "source": [
    "import pickle\n",
    "\n",
    "pickle.dump(model, open('model/model_300.pkl', \"wb\"))"
   ]
  },
  {
   "cell_type": "code",
   "execution_count": 43,
   "id": "d020ec13",
   "metadata": {},
   "outputs": [],
   "source": [
    "model = pickle.load(open('model/model_300.pkl', \"rb\"))"
   ]
  },
  {
   "cell_type": "code",
   "execution_count": 44,
   "id": "028b8dc5",
   "metadata": {},
   "outputs": [],
   "source": [
    "preds = inference(model, X_test)"
   ]
  },
  {
   "cell_type": "code",
   "execution_count": 45,
   "id": "95327135",
   "metadata": {},
   "outputs": [],
   "source": [
    "precision, recall, fbeta = compute_model_metrics(y_test, preds)"
   ]
  },
  {
   "cell_type": "code",
   "execution_count": 46,
   "id": "6374478e",
   "metadata": {},
   "outputs": [
    {
     "name": "stdout",
     "output_type": "stream",
     "text": [
      "precision: 0.741\n",
      "recall: 0.616\n",
      "fbeta: 0.672\n"
     ]
    }
   ],
   "source": [
    "print(f\"precision: {precision:.3f}\")\n",
    "print(f\"recall: {recall:.3f}\")\n",
    "print(f\"fbeta: {fbeta:.3f}\")"
   ]
  },
  {
   "cell_type": "code",
   "execution_count": 47,
   "id": "5bc4e598",
   "metadata": {},
   "outputs": [],
   "source": [
    "df = data"
   ]
  },
  {
   "cell_type": "code",
   "execution_count": 52,
   "id": "76b34b57",
   "metadata": {},
   "outputs": [
    {
     "data": {
      "text/plain": [
       "Private             22696\n",
       "Self-emp-not-inc     2541\n",
       "Local-gov            2093\n",
       "?                    1836\n",
       "State-gov            1298\n",
       "Self-emp-inc         1116\n",
       "Federal-gov           960\n",
       "Without-pay            14\n",
       "Never-worked            7\n",
       "Name: workclass, dtype: int64"
      ]
     },
     "execution_count": 52,
     "metadata": {},
     "output_type": "execute_result"
    }
   ],
   "source": [
    "df['workclass'].value_counts()"
   ]
  },
  {
   "cell_type": "code",
   "execution_count": 54,
   "id": "040bd769",
   "metadata": {},
   "outputs": [
    {
     "name": "stdout",
     "output_type": "stream",
     "text": [
      "processing ------------ workclass\n",
      "for class: State-gov\n",
      "for class: Self-emp-not-inc\n",
      "for class: Private\n",
      "for class: Federal-gov\n",
      "for class: Local-gov\n",
      "for class: ?\n",
      "for class: Self-emp-inc\n",
      "for class: Without-pay\n",
      "for class: Never-worked\n",
      "processing ------------ education\n",
      "for class: Bachelors\n",
      "for class: HS-grad\n",
      "for class: 11th\n",
      "for class: Masters\n",
      "for class: 9th\n",
      "for class: Some-college\n",
      "for class: Assoc-acdm\n",
      "for class: Assoc-voc\n",
      "for class: 7th-8th\n",
      "for class: Doctorate\n",
      "for class: Prof-school\n",
      "for class: 5th-6th\n",
      "for class: 10th\n",
      "for class: 1st-4th\n",
      "for class: Preschool\n",
      "for class: 12th\n",
      "processing ------------ marital-status\n",
      "for class: Never-married\n",
      "for class: Married-civ-spouse\n",
      "for class: Divorced\n",
      "for class: Married-spouse-absent\n",
      "for class: Separated\n",
      "for class: Married-AF-spouse\n",
      "for class: Widowed\n",
      "processing ------------ occupation\n",
      "for class: Adm-clerical\n",
      "for class: Exec-managerial\n",
      "for class: Handlers-cleaners\n",
      "for class: Prof-specialty\n",
      "for class: Other-service\n",
      "for class: Sales\n",
      "for class: Craft-repair\n",
      "for class: Transport-moving\n",
      "for class: Farming-fishing\n",
      "for class: Machine-op-inspct\n",
      "for class: Tech-support\n",
      "for class: ?\n",
      "for class: Protective-serv\n",
      "for class: Armed-Forces\n",
      "for class: Priv-house-serv\n",
      "processing ------------ relationship\n",
      "for class: Not-in-family\n",
      "for class: Husband\n",
      "for class: Wife\n",
      "for class: Own-child\n",
      "for class: Unmarried\n",
      "for class: Other-relative\n",
      "processing ------------ race\n",
      "for class: White\n",
      "for class: Black\n",
      "for class: Asian-Pac-Islander\n",
      "for class: Amer-Indian-Eskimo\n",
      "for class: Other\n",
      "processing ------------ sex\n",
      "for class: Male\n",
      "for class: Female\n",
      "processing ------------ native-country\n",
      "for class: United-States\n",
      "for class: Cuba\n",
      "for class: Jamaica\n",
      "for class: India\n",
      "for class: ?\n",
      "for class: Mexico\n",
      "for class: South\n",
      "for class: Puerto-Rico\n",
      "for class: Honduras\n",
      "for class: England\n",
      "for class: Canada\n",
      "for class: Germany\n",
      "for class: Iran\n",
      "for class: Philippines\n",
      "for class: Italy\n",
      "for class: Poland\n",
      "for class: Columbia\n",
      "for class: Cambodia\n",
      "for class: Thailand\n",
      "for class: Ecuador\n",
      "for class: Laos\n",
      "for class: Taiwan\n",
      "for class: Haiti\n",
      "for class: Portugal\n",
      "for class: Dominican-Republic\n",
      "for class: El-Salvador\n",
      "for class: France\n",
      "for class: Guatemala\n",
      "for class: China\n",
      "for class: Japan\n",
      "for class: Yugoslavia\n",
      "for class: Peru\n",
      "for class: Outlying-US(Guam-USVI-etc)\n",
      "for class: Scotland\n",
      "for class: Trinadad&Tobago\n",
      "for class: Greece\n",
      "for class: Nicaragua\n",
      "for class: Vietnam\n",
      "for class: Hong\n",
      "for class: Ireland\n",
      "for class: Hungary\n",
      "for class: Holand-Netherlands\n"
     ]
    }
   ],
   "source": [
    "metric_per_slice = []\n",
    "\n",
    "for category in cat_features:\n",
    "    print(f'processing ------------ {category}')\n",
    "    for category_cls in df[category].unique():\n",
    "        df_slice = df[df[category] == category_cls]\n",
    "\n",
    "        X_slice_test, y_slice_test, _, _ = process_data(df_slice, categorical_features=cat_features, label=\"salary\", \n",
    "                                                 training=False, encoder=encoder, lb=lb)\n",
    "        print(f'for class: {category_cls}')\n",
    "        \n",
    "        preds = inference(model, X_test)\n",
    "        precision, recall, fbeta = compute_model_metrics(y_test, preds)\n",
    "        \n",
    "        category_cls_name = category_cls if category_cls != '?' else 'unknown'\n",
    "\n",
    "        metric_per_slice.append([f'{category}-{category_cls_name}', f'{precision:.3f}', \n",
    "                                 f'{recall:.3f}', f'{fbeta:.3f}'])\n",
    "        \n",
    "with open('model/slice_output.txt', 'w') as fp:\n",
    "    for single_slice in metric_per_slice:\n",
    "        # write each item on a new line\n",
    "        fp.write(\"%s\\n\" % single_slice)"
   ]
  },
  {
   "cell_type": "code",
   "execution_count": null,
   "id": "06f2df81",
   "metadata": {},
   "outputs": [],
   "source": []
  }
 ],
 "metadata": {
  "kernelspec": {
   "display_name": "Python 3 (ipykernel)",
   "language": "python",
   "name": "python3"
  },
  "language_info": {
   "codemirror_mode": {
    "name": "ipython",
    "version": 3
   },
   "file_extension": ".py",
   "mimetype": "text/x-python",
   "name": "python",
   "nbconvert_exporter": "python",
   "pygments_lexer": "ipython3",
   "version": "3.8.13"
  }
 },
 "nbformat": 4,
 "nbformat_minor": 5
}
